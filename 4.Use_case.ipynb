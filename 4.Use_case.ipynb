{
 "cells": [
  {
   "cell_type": "markdown",
   "id": "f1aace1b-44a0-4f40-acd1-9bf395bc4ce9",
   "metadata": {},
   "source": [
    "<a href=\"https://www.dask.org/\" target=\"_blank\">\n",
    "<img src=\"http://dask.readthedocs.io/en/latest/_images/dask_horizontal.svg\"\n",
    "     align=\"right\"\n",
    "     width=\"30%\"\n",
    "     alt=\"Dask logo\\\">\n",
    "</a>\n",
    "\n",
    "# Use case: Satellite Image Processing\n",
    "\n",
    "This notebook will guide us through a practical use case example of Dask in satellite image processing.\n",
    "\n",
    "**Introduction**\n",
    "\n",
    "In satellite image processing, vegetation indices are the result of arithmetically operating the spectral components (bands) of a satellite image. The value of these indices, in most cases, enhances the phenological properties of the crops. Examples of vegetation indices used recurrently in the literature for crop analysis are **Normalized Difference Vegetation Index (NDVI)**, and **Enhanced Vegetation Index (EVI)**. Other vegetation indices found in the literature are **Ratio Vegetation Index (RVI)** and **Soil Adjusted Vegetation Index (SAVI)**. You can find more information about indexes\n",
    "\n",
    "\n",
    "<center>\n",
    "<img src=\"img/ndvi.png\" width=\"80%\"/>\n",
    "</center>\n",
    "<center>\n",
    "<a href=\"https://www.agricolus.com/en/vegetation-indices-ndvi-ndmi/\" target=\"_blank\" width=\"30%\"> Example NDVI (Normalized Difference Vegetation Index) </a>\n",
    "</center>\n",
    "\n",
    "\n",
    "\n",
    "**Content**\n",
    "\n",
    "1. Prepare Satellite Image\n",
    "2. Prepare the High-Performance Computing System\n",
    "3. Release the resources reserved on the High-Performance Computing System"
   ]
  },
  {
   "cell_type": "markdown",
   "id": "d9c12917-9c62-4aa9-a5d3-7e2fc7f4dd9e",
   "metadata": {},
   "source": [
    "## 1. Prepare Satellite Image"
   ]
  },
  {
   "cell_type": "markdown",
   "id": "499aa35e-b0b5-4117-9ee6-b266550c2e36",
   "metadata": {},
   "source": [
    "__1. Import required libraries__"
   ]
  },
  {
   "cell_type": "code",
   "execution_count": null,
   "id": "a3a613b8-0892-469a-af5b-db9fb78564fe",
   "metadata": {},
   "outputs": [],
   "source": [
    "import os, zipfile, glob, rioxarray"
   ]
  },
  {
   "cell_type": "markdown",
   "id": "bce8c373-8d82-4beb-87e7-3eb003190175",
   "metadata": {},
   "source": [
    "__2. Select image source directories__"
   ]
  },
  {
   "cell_type": "code",
   "execution_count": null,
   "id": "5f51c9f5-e1ea-4440-885c-9943c1768dc7",
   "metadata": {},
   "outputs": [],
   "source": [
    "download_storage = '/data' # '/home/shared'\n",
    "images_storage = './images_storage'"
   ]
  },
  {
   "cell_type": "code",
   "execution_count": null,
   "id": "b7b4588d-0d6c-454a-b075-44e1334083a6",
   "metadata": {},
   "outputs": [],
   "source": [
    "image_id = 'S2A_MSIL2A_20200205T151701_N0500_R125_T18NYM_20230608T152118.SAFE'\n",
    "zip_file = f\"{download_storage}/{image_id}.zip\"\n",
    "\n",
    "rgb_file = f'{images_storage}/{image_id}/GRANULE/L2A_T18NYM_A024146_20200205T151919/IMG_DATA/R10m/T18NYM_20200205T151701_TCI_10m.jp2'\n",
    "red_file = f'{images_storage}/{image_id}/GRANULE/L2A_T18NYM_A024146_20200205T151919/IMG_DATA/R10m/T18NYM_20200205T151701_B04_10m.jp2'\n",
    "nir_file = f'{images_storage}/{image_id}/GRANULE/L2A_T18NYM_A024146_20200205T151919/IMG_DATA/R10m/T18NYM_20200205T151701_B08_10m.jp2'"
   ]
  },
  {
   "cell_type": "code",
   "execution_count": null,
   "id": "f20eedc9-7ec5-434f-ae47-5a7561cbe456",
   "metadata": {},
   "outputs": [],
   "source": [
    "#image_id = 'S2B_MSIL2A_20200210T151659_N0500_R125_T18NYM_20230413T102115.SAFE'\n",
    "#zip_file = f\"{download_storage}/{image_id}.zip\"\n",
    "\n",
    "#rgb_file = f'{images_storage}/{image_id}/GRANULE/L2A_T18NYM_A015309_20200210T151658/IMG_DATA/R10m/T18NYM_20200210T151659_TCI_10m.jp2'\n",
    "#red_file = f'{images_storage}/{image_id}/GRANULE/L2A_T18NYM_A015309_20200210T151658/IMG_DATA/R10m/T18NYM_20200210T151659_B04_10m.jp2'\n",
    "#nir_file = f'{images_storage}/{image_id}/GRANULE/L2A_T18NYM_A015309_20200210T151658/IMG_DATA/R10m/T18NYM_20200210T151659_B08_10m.jp2'"
   ]
  },
  {
   "cell_type": "markdown",
   "id": "fe326732-ecaa-4685-a3c4-237525b5de05",
   "metadata": {},
   "source": [
    "__3. Unzip the image into `image_storage`__"
   ]
  },
  {
   "cell_type": "code",
   "execution_count": null,
   "id": "d00d54f1-44bc-4477-9475-75f04ce7df3c",
   "metadata": {},
   "outputs": [],
   "source": [
    "with zipfile.ZipFile(zip_file) as zip_ref:\n",
    "    dst_folder = os.path.basename(zip_file).replace('.zip','.SAFE')\n",
    "    if not os.path.exists(os.path.join(images_storage, dst_folder)):\n",
    "        zip_ref.extractall(images_storage)"
   ]
  },
  {
   "cell_type": "markdown",
   "id": "5781be1c-26ee-4b37-aa4f-4156fca422aa",
   "metadata": {},
   "source": [
    "__4. Load the image bands__"
   ]
  },
  {
   "cell_type": "code",
   "execution_count": null,
   "id": "addbc94a-f52f-41de-b3cd-ea39087f8741",
   "metadata": {},
   "outputs": [],
   "source": [
    "# Area 1\n",
    "band_rgb = rioxarray.open_rasterio(rgb_file)\n",
    "band_red = rioxarray.open_rasterio(red_file)\n",
    "band_nir = rioxarray.open_rasterio(nir_file)\n",
    "\n",
    "# Area 1\n",
    "rgb = band_rgb.sel(x=slice(722500,737500), y=slice(620000,606000))\n",
    "red = band_red.sel(x=slice(722500,737500), y=slice(620000,606000))\n",
    "nir = band_nir.sel(x=slice(722500,737500), y=slice(620000,606000))\n",
    "\n",
    "# Area 2\n",
    "# rgb = band_rgb.isel(x=slice(10000,20000), y=slice(10000,20000))\n",
    "# red = band_red.isel(x=slice(10000,20000), y=slice(10000,20000))\n",
    "# nir = band_nir.isel(x=slice(10000,20000), y=slice(10000,20000))\n",
    "\n",
    "del band_rgb\n",
    "del band_red\n",
    "del band_nir"
   ]
  },
  {
   "cell_type": "markdown",
   "id": "f2faa238-d1fa-48e2-be2e-9edc2a974db9",
   "metadata": {},
   "source": [
    "__5. Plot the RGB compisition__"
   ]
  },
  {
   "cell_type": "code",
   "execution_count": null,
   "id": "e478e128-3376-4a0e-a5db-edcb0628341d",
   "metadata": {},
   "outputs": [],
   "source": [
    "rgb.plot.imshow()"
   ]
  },
  {
   "cell_type": "markdown",
   "id": "498a9e36-f122-4f17-bec1-7d3e1ddb6db0",
   "metadata": {},
   "source": [
    "__6. Plot the RED band__"
   ]
  },
  {
   "cell_type": "code",
   "execution_count": null,
   "id": "f2b46632-7d86-4494-b3a9-e2e1df55f29b",
   "metadata": {},
   "outputs": [],
   "source": [
    "red.plot()"
   ]
  },
  {
   "cell_type": "markdown",
   "id": "266782bd-8f0d-454b-a70b-81e75fa8e4bb",
   "metadata": {},
   "source": [
    "__7. Plot the NIR (Near Infrared) band__"
   ]
  },
  {
   "cell_type": "code",
   "execution_count": null,
   "id": "8396d27a-0186-40a5-b683-79353314ac24",
   "metadata": {},
   "outputs": [],
   "source": [
    "nir.plot()"
   ]
  },
  {
   "cell_type": "markdown",
   "id": "9f4e7e8a-cbdb-43d9-85b9-dc0d975084c4",
   "metadata": {},
   "source": [
    "__8. Chunk the bands in order to enable Dask's computations in the arrays__"
   ]
  },
  {
   "cell_type": "code",
   "execution_count": null,
   "id": "4aab344e-3869-494f-baa3-cda1ee481ce3",
   "metadata": {},
   "outputs": [],
   "source": [
    "chunked_red = red.chunk({'x':100, 'y':100})\n",
    "chunked_nir = nir.chunk({'x':100, 'y':100})\n",
    "\n",
    "del red \n",
    "del nir"
   ]
  },
  {
   "cell_type": "markdown",
   "id": "f585cbc8-d6a3-418e-b4f3-915656176259",
   "metadata": {},
   "source": [
    "__9. `DEFINE` the NDVI (Normalized Difference Vegetation Index) computation__\n",
    "\n",
    "The NDVI is used to rate the greenness of vegetation and is useful to evaluate its density and health; For this index, values close to 1 correspond to dense vegetation, such as that found in forests or crops in their maximum growth stage, while values close to 0 represent areas with scarce vegetation. Finally, negative values close to -1 represent indications of water.\n",
    "\n",
    "The equation that allows the calculation of this index is shown below:\n",
    "\n",
    "```sh\n",
    "NDVI = (NIR - RED) / (NIR + RED)\n",
    "```"
   ]
  },
  {
   "cell_type": "code",
   "execution_count": null,
   "id": "d6bc5872-774e-4b74-853a-ba74c7c57ba5",
   "metadata": {},
   "outputs": [],
   "source": [
    "ndvi = (chunked_nir - chunked_red) / (chunked_nir + chunked_red)\n",
    "ndvi"
   ]
  },
  {
   "cell_type": "markdown",
   "id": "3ec3d35a-ff94-4225-8874-353d4d67e7b2",
   "metadata": {},
   "source": [
    "## 2. Prepare the High-Performance Computing System\n",
    "\n",
    "* High-Performance Computing (HPC) systems are **tightly coupled, custom, specialized computers**. The primary objective is to **accelerate numerical analysis at a large scale**. However, in the last years, supercomputers have been adapted to comply with both numerical and data analysis. \n",
    "* Dask can be deployed in an HPC system to perform large-scale data analysis. Depending on how Dask was configured in the HPC, it will bring significant advantages in communication-intensive computations.\n",
    "\n",
    "| Diagram                                                                                                                             | High Performance Computing System (El Capitan)                                                                                                                             |\n",
    "|-----------------------------------------------------------------------------------------------------------------------------------|-----------------------------------------------------------------------------------------------------------------------------------|\n",
    "|                                                         |\n",
    "| <img src=\"img/dask-arch.svg\" width=\"600px\"> | <img src=\"img/hpc_el_capitan.jpeg\" width=\"600px\"> |\n",
    "<center>\n",
    "\n",
    "</center>"
   ]
  },
  {
   "cell_type": "markdown",
   "id": "c9f55345-7eeb-4477-bee7-e7f3345f4d5f",
   "metadata": {},
   "source": [
    "__1. Import required libraries, define required variables and functions__"
   ]
  },
  {
   "cell_type": "code",
   "execution_count": null,
   "id": "fe82a9e6-7ec9-45b7-a2c3-4aa2c5b31db9",
   "metadata": {},
   "outputs": [],
   "source": [
    "from dask_jobqueue import SLURMCluster\n",
    "from dask.distributed import Client"
   ]
  },
  {
   "cell_type": "markdown",
   "id": "b9d2ff6d-c0bb-4404-bbdc-6ebc164004a3",
   "metadata": {},
   "source": [
    "__2. Create a Dask cluster__\n",
    "\n",
    "_Hint: Here you will define how namy `cores` and `memory` will have every Dask worker._"
   ]
  },
  {
   "cell_type": "code",
   "execution_count": null,
   "id": "ed5b7133-348e-4557-8b9f-a6180e75b726",
   "metadata": {},
   "outputs": [],
   "source": [
    "cluster = SLURMCluster(\n",
    "    name=#...,\n",
    "    cores=1,\n",
    "    memory=\"8GB\",\n",
    "    processes=True,\n",
    "    scheduler_options={\"dashboard_address\": \":0\"}\n",
    ")\n",
    "\n",
    "cluster"
   ]
  },
  {
   "cell_type": "markdown",
   "id": "6d7d7223-4f1d-49e6-ace1-5272eb63c31b",
   "metadata": {},
   "source": [
    "__3. Create a Dask Client and connect the client to the Dask cluster in the High Performance Computing System__\n",
    "\n",
    "_Activities:_ \n",
    "\n",
    "1. Run the cell below\n",
    "2. Use the option `Launch dashboard in JupyterLab`, this will display the Dask Dashboard."
   ]
  },
  {
   "cell_type": "code",
   "execution_count": null,
   "id": "53aa8ca6-08d3-480a-8b9a-c6c94c3b6497",
   "metadata": {
    "scrolled": true
   },
   "outputs": [],
   "source": [
    "client = Client(cluster)  # Connect to distributed cluster and override default\n",
    "client"
   ]
  },
  {
   "cell_type": "markdown",
   "id": "e65464e0-2ca8-4b30-adda-30d2825a40e8",
   "metadata": {},
   "source": [
    "__4. Deploy workers for your Dask cluster__\n",
    "\n",
    "_Hint: each worker will be a slurm job._"
   ]
  },
  {
   "cell_type": "code",
   "execution_count": null,
   "id": "8da7f192-790b-4761-8a4f-fd5b234b9961",
   "metadata": {},
   "outputs": [],
   "source": [
    "cluster.scale(jobs=2)"
   ]
  },
  {
   "cell_type": "markdown",
   "id": "b38173f9-b544-4ad2-ab1c-a22c0d0963e4",
   "metadata": {},
   "source": [
    "__5. Adjust the number of workers according to the workload__\n",
    "\n",
    "_Hint: This also works with adaptive clusters. This automatically launches and kill workers based on load [7]._"
   ]
  },
  {
   "cell_type": "code",
   "execution_count": null,
   "id": "b6ef5a0c-d167-43f9-8730-eb155e23b4b3",
   "metadata": {},
   "outputs": [],
   "source": [
    "# DANGEROUS ZONE, PLEASE DO NOT USE IT, THIS WILL BE EXECUTED BY THE INSTRUCTOR\n",
    "# cluster.adapt(minimum=1, maximum=4)"
   ]
  },
  {
   "cell_type": "markdown",
   "id": "4223cd5f-bfcf-406f-95e6-7fdccd275269",
   "metadata": {},
   "source": [
    "__6. `COMPUTE` the NDVI__\n",
    "\n",
    "_Hint: Use the Dashboard to see what is happening while your computation is taking place._"
   ]
  },
  {
   "cell_type": "code",
   "execution_count": null,
   "id": "4813933e-e96a-48e5-8452-24568002c6de",
   "metadata": {},
   "outputs": [],
   "source": [
    "result = ndvi.compute()\n",
    "result"
   ]
  },
  {
   "cell_type": "markdown",
   "id": "dd352132-b78a-4370-94dc-80be31b3ab5c",
   "metadata": {},
   "source": [
    "__7. Plot results__"
   ]
  },
  {
   "cell_type": "code",
   "execution_count": null,
   "id": "4ee5e679-aef1-4a40-b350-410aeca21943",
   "metadata": {},
   "outputs": [],
   "source": [
    "result.plot()"
   ]
  },
  {
   "cell_type": "markdown",
   "id": "fc64d9ac-471f-4b32-98c3-4e2dece20785",
   "metadata": {},
   "source": [
    "**NOTE:** The image above seems to not reflect the NDVI results we expect. In the first instance, the color bar shows that the calculated ndvi varies between 0 and 600. However, according to the literature, the ndvi calculation provides values that vary between -1.0 and 1.0. On the other hand, the image becomes a single color.\n",
    "\n",
    "When dealing with satellite images it is common to find invalid pixel values, that is, 1) pixels with values that are outside the valid range of band values, (2) pixels that have no information, (3) pixels that have thin clouds that are not visible to the naked eye or due to the level of detail in the image it becomes imperceptible, among other cases. Given the above, it is prudent to remove these pixels from the original analysis to avoid the propagation of invalid pixel values.\n",
    "\n",
    "__Masking invalid pixels__\n",
    "\n",
    "Masking is the process of eliminating or removing invalid pixel information from the image to avoid propagating errors when making calculations with these values. One way to mask the image is to use the ranges of known NDVI values as criteria for acceptance or elimination of pixels."
   ]
  },
  {
   "cell_type": "code",
   "execution_count": null,
   "id": "b11e2096-32e2-478e-9ae2-94ba3beb85da",
   "metadata": {},
   "outputs": [],
   "source": [
    "# Generación de máscara que establece que deseamos dejar aquellos píxeles que presentan un ndvi mayor que -1.0\n",
    "mask_lower = result >= -1.0\n",
    "\n",
    "# Generación de máscara que establece que deseamos dejar aquellos píxeles que son menores que 1.0\n",
    "mask_higher = result <= 1.0\n",
    "\n",
    "# Aplicamos ambas máscaras sobre todo el dataset\n",
    "masked_result = result.where(mask_lower & mask_higher)\n",
    "\n",
    "# Imágen del ndvi después de haber removido los valores inválidos para el índice\n",
    "masked_result.plot()"
   ]
  },
  {
   "cell_type": "markdown",
   "id": "0decdc27-8f98-4024-b5c7-e85fda43fef2",
   "metadata": {},
   "source": [
    "__Define different colors for set ranges of values__\n",
    "\n",
    "In some cases, it is necessary to establish specific colors for certain ranges of values that allow us to distinguish specific aspects of the coverage studied. The code shown below sets specific colors for defined ranges of ndvi values.\n",
    "\n",
    "Reference: the colors used in the color bar were taken from *[A repository of custom scripts that can be used with Sentinel-Hub services](https://custom-scripts.sentinel-hub.com/custom-scripts/sentinel-2/ndvi/)*"
   ]
  },
  {
   "cell_type": "code",
   "execution_count": null,
   "id": "35821c40-494a-46d8-839c-38abdf2ca405",
   "metadata": {},
   "outputs": [],
   "source": [
    "import matplotlib as mpl\n",
    "\n",
    "cmap = mpl.colors.ListedColormap(\n",
    "    [\n",
    "        '#000000', \n",
    "        '#a50026',\n",
    "        '#d73027',\n",
    "        '#f46d43',\n",
    "        '#fdae61',\n",
    "        '#fee08b',\n",
    "        '#ffffbf',\n",
    "        '#d9ef8b',\n",
    "        '#a6d96a',\n",
    "        '#66bd63',\n",
    "        '#1a9850',\n",
    "        '#006837'\n",
    "    ]\n",
    ")\n",
    "\n",
    "# Rangos de valores establecidos\n",
    "bounds = [-1.0, -0.2, 0.0, 0.1, 0.2, 0.3, 0.4, 0.5, 0.6, 0.7, 0.8, 0.9, 1.0]\n",
    "\n",
    "# Genera una capa de normalización de los datos basada en los intérvalos establecidos en 'bounds'\n",
    "norm = mpl.colors.BoundaryNorm(bounds, cmap.N)\n",
    "\n",
    "# Mostrar imágen de la variable de datos ndvi.\n",
    "result.plot(cmap=cmap,norm=norm)"
   ]
  },
  {
   "cell_type": "markdown",
   "id": "a612c757-3b6c-41f3-9dbc-0e85a63e4597",
   "metadata": {},
   "source": [
    "## 3. Release the resources reserved on the High-Performance Computing System"
   ]
  },
  {
   "cell_type": "markdown",
   "id": "e25122b6-0feb-4822-ab03-1122ceab935c",
   "metadata": {},
   "source": [
    "__7. Showdown the cluster__"
   ]
  },
  {
   "cell_type": "code",
   "execution_count": null,
   "id": "616b86df-4de0-425b-b4fc-f2c0966d185b",
   "metadata": {},
   "outputs": [],
   "source": [
    "cluster.close()"
   ]
  },
  {
   "cell_type": "markdown",
   "id": "a3c4dfd4-5143-42e6-92d7-0e99590a02bb",
   "metadata": {},
   "source": [
    "__9. Close the connection between the client and the cluster__"
   ]
  },
  {
   "cell_type": "code",
   "execution_count": null,
   "id": "3cef29bf-c678-4c8b-b3c5-c294f1fc147b",
   "metadata": {},
   "outputs": [],
   "source": [
    "client.close()"
   ]
  },
  {
   "cell_type": "markdown",
   "id": "290d0757-1426-4010-994f-e3bd72c8bd3a",
   "metadata": {},
   "source": [
    "# [Excerise 4](labs/Lab4.ipynb)"
   ]
  }
 ],
 "metadata": {
  "kernelspec": {
   "display_name": "Python 3 (ipykernel)",
   "language": "python",
   "name": "python3"
  },
  "language_info": {
   "codemirror_mode": {
    "name": "ipython",
    "version": 3
   },
   "file_extension": ".py",
   "mimetype": "text/x-python",
   "name": "python",
   "nbconvert_exporter": "python",
   "pygments_lexer": "ipython3",
   "version": "3.10.12"
  }
 },
 "nbformat": 4,
 "nbformat_minor": 5
}
