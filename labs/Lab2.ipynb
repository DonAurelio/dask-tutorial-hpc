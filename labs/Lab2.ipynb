{
 "cells": [
  {
   "cell_type": "markdown",
   "id": "f1aace1b-44a0-4f40-acd1-9bf395bc4ce9",
   "metadata": {},
   "source": [
    "<a href=\"https://www.dask.org/\" target=\"_blank\">\n",
    "<img src=\"http://dask.readthedocs.io/en/latest/_images/dask_horizontal.svg\"\n",
    "     align=\"right\"\n",
    "     width=\"30%\"\n",
    "     alt=\"Dask logo\\\">\n",
    "</a>\n",
    "\n",
    "# Lab 2: Scalability\n",
    "\n",
    "In this mini-lab, you will solve the problem described below using a High-Performance Computing System."
   ]
  },
  {
   "cell_type": "markdown",
   "id": "53af4c60-4dfe-4d0f-a070-c1ea5735e561",
   "metadata": {},
   "source": [
    "**Problem**. Consider the following equation for large arrays of shape `(100,100)`. Suppose $x$ and $y$ are both matrices of ones.\n",
    "\n",
    "$$\n",
    "  z = (x^2 + y^2) * (x^2 - y^2)\n",
    "$$\n",
    "\n",
    "**Activities**\n",
    "\n",
    "Solve the problem given above by applying domain and functional decomposition. Use a chunk size of `(10,10)` to get started.\n",
    "\n",
    "1. Parallel programming approach: Write a parallel version of the sequential program using the **domain decomposition** approach.\n",
    "   * Increase the size of the problem by considering two sizes from the following sequence `(100,100), (1000,1000), (10000,10000), ..., (1000000,100000)`. **NOTE:** `(1000000,100000)` will take several minutes.\n",
    "   * You may consider adjusting the **chunk size** to reduce the resulting number of tasks to be scheduled.\n",
    "   * Take notes of the amount of time consumed in every `problem size vs chunk size` configuration considered.\n",
    "  \n",
    "2. Parallel programming approach: Write a parallel version of the sequential program using the **functional decomposition** approach.\n",
    "   * Increase the size of the problem by considering the sizes from the following sequence `(100,100), (1000,1000)`. **NOTE:** `(1000,1000)` may take several minutes.\n",
    "   * You may consider adjusting the **chunk size** to reduce the resulting number of tasks to be scheduled.\n",
    "   * Take notes of the amount of time consumed in every `problem size vs chunk size` configuration considered.\n",
    " \n",
    "\n",
    "**Questions**\n",
    "\n",
    "1. Which approach, between domain and functional decomposition, demonstrates superior scalability? Please explain your reasoning.\n",
    "2. What combination of problem size and chunk size yielded the optimal execution time? Please explain your reasoning.\n",
    "\n",
    "**Instructions for answers**\n",
    "\n",
    "1. Download the template [Dask Tutorial: Lab 2 - Scalability](../labs/Lab2.txt)\n",
    "2. Edit the template in Microsoft Word, place your answers. \n",
    "3. Create a PDF document.\n",
    "2. Share your PDF document in [Padlet](https://uniandes.padlet.org/aavivas/dask-tutorial-lab-2-scalability-2025-8xt530boe5e9851x)"
   ]
  },
  {
   "cell_type": "markdown",
   "id": "3ec3d35a-ff94-4225-8874-353d4d67e7b2",
   "metadata": {},
   "source": [
    "## 1. Cluster in a High Performance Computing System"
   ]
  },
  {
   "cell_type": "markdown",
   "id": "c9f55345-7eeb-4477-bee7-e7f3345f4d5f",
   "metadata": {},
   "source": [
    "__1. Import required libraries, define required variables and functions__"
   ]
  },
  {
   "cell_type": "code",
   "execution_count": null,
   "id": "fe82a9e6-7ec9-45b7-a2c3-4aa2c5b31db9",
   "metadata": {},
   "outputs": [],
   "source": [
    "# ...\n",
    "# ...\n",
    "# ..."
   ]
  },
  {
   "cell_type": "markdown",
   "id": "b9d2ff6d-c0bb-4404-bbdc-6ebc164004a3",
   "metadata": {},
   "source": [
    "__2. Create a Dask cluster__"
   ]
  },
  {
   "cell_type": "code",
   "execution_count": null,
   "id": "ed5b7133-348e-4557-8b9f-a6180e75b726",
   "metadata": {},
   "outputs": [],
   "source": [
    "cluster = SLURMCluster(\n",
    "    #...\n",
    "    #...\n",
    "    #...\n",
    "    #...\n",
    "    #...\n",
    "    scheduler_options={\"dashboard_address\": \":0\"}\n",
    ")\n",
    "\n",
    "cluster"
   ]
  },
  {
   "cell_type": "markdown",
   "id": "6d7d7223-4f1d-49e6-ace1-5272eb63c31b",
   "metadata": {},
   "source": [
    "__3. Create a Dask Client and connect the client to the Dask cluster__\n",
    "\n",
    "_Activities:_ \n",
    "\n",
    "1. Run the cell below\n",
    "2. Use the option `Launch dashboard in JupyterLab`, this will display the Dask Dashboard."
   ]
  },
  {
   "cell_type": "code",
   "execution_count": null,
   "id": "53aa8ca6-08d3-480a-8b9a-c6c94c3b6497",
   "metadata": {
    "scrolled": true
   },
   "outputs": [],
   "source": [
    "client = # ...\n",
    "client"
   ]
  },
  {
   "cell_type": "markdown",
   "id": "e65464e0-2ca8-4b30-adda-30d2825a40e8",
   "metadata": {},
   "source": [
    "__4. Deploy 2 workers for your Dask cluster__\n",
    "\n",
    "_Hint: Create 2 workers, then you can increase up to 4._"
   ]
  },
  {
   "cell_type": "code",
   "execution_count": null,
   "id": "8da7f192-790b-4761-8a4f-fd5b234b9961",
   "metadata": {},
   "outputs": [],
   "source": [
    "cluster.scale(\n",
    "    jobs=# ...\n",
    ")"
   ]
  },
  {
   "cell_type": "markdown",
   "id": "4223cd5f-bfcf-406f-95e6-7fdccd275269",
   "metadata": {},
   "source": [
    "__5. Solve the problem through Domain Decomposition__\n",
    "\n",
    "Hint: You should perform the following steps\n",
    "\n",
    "1. Import dask.arry\n",
    "2. Create the x and y arrays\n",
    "3. Write the equation\n",
    "4. Compute the result.\n",
    "5. Adjust problem and chunk sizes, compute the result, and take notes of problem size, chunk size, and execution time.\n",
    "\n",
    "**NOTE:** Please do not print the result, use, for instance, `result = z.compute()`. Displaying the results of large arrays can be a less-than-ideal experience."
   ]
  },
  {
   "cell_type": "code",
   "execution_count": null,
   "id": "4813933e-e96a-48e5-8452-24568002c6de",
   "metadata": {},
   "outputs": [],
   "source": [
    "%%time\n",
    "\n",
    "# ... Import dask.array\n",
    "\n",
    "# ... Create the x and y arrays\n",
    "\n",
    "# ... Write the equation \n",
    "\n",
    "# ... Compute the result\n"
   ]
  },
  {
   "cell_type": "markdown",
   "id": "dc00d20d-b0bc-45b3-8e36-c36912484597",
   "metadata": {},
   "source": [
    "__5. Solve the problem through Functional Decomposition__\n",
    "\n",
    "Hint: You should perform the following steps\n",
    "\n",
    "1. Import dask.arry\n",
    "2. Create the x and y arrays\n",
    "3. Write the equation\n",
    "4. Compute the result.\n",
    "5. Adjust problem and chunk sizes, compute the result, and take notes of problem size, chunk size, and execution time.\n",
    "\n",
    "**NOTE:** Please do not print the result, use, for instance,`result = z.compute()`. Displaying the results of large arrays can be a less-than-ideal experience."
   ]
  },
  {
   "cell_type": "code",
   "execution_count": null,
   "id": "38e51413",
   "metadata": {},
   "outputs": [],
   "source": [
    "%%time\n",
    "\n",
    "# ... Import dask\n",
    "\n",
    "# ... Create the x and y arrays\n",
    "\n",
    "# ... Write the equation in terms of functions, use the dask.delayed interface\n",
    "\n",
    "# ... Compute the result\n"
   ]
  },
  {
   "cell_type": "markdown",
   "id": "e25122b6-0feb-4822-ab03-1122ceab935c",
   "metadata": {},
   "source": [
    "__6. Showdown the cluster__\n",
    "\n",
    "_Hint: This is **MANDATORY**, one you finish using a cluster you must turn it of, since it will release the computing resources your cluster was using_"
   ]
  },
  {
   "cell_type": "code",
   "execution_count": null,
   "id": "616b86df-4de0-425b-b4fc-f2c0966d185b",
   "metadata": {},
   "outputs": [],
   "source": [
    "cluster.close()"
   ]
  },
  {
   "cell_type": "markdown",
   "id": "a3c4dfd4-5143-42e6-92d7-0e99590a02bb",
   "metadata": {},
   "source": [
    "__7. Close the connection between the client and the cluster__"
   ]
  },
  {
   "cell_type": "code",
   "execution_count": null,
   "id": "3cef29bf-c678-4c8b-b3c5-c294f1fc147b",
   "metadata": {},
   "outputs": [],
   "source": [
    "client.close()"
   ]
  },
  {
   "cell_type": "markdown",
   "id": "e22c2a91-f75e-4431-8c79-8f5a2a8d6fe7",
   "metadata": {},
   "source": [
    "# [Index](../0.Introduction.ipynb)"
   ]
  }
 ],
 "metadata": {
  "kernelspec": {
   "display_name": "Python 3 (ipykernel)",
   "language": "python",
   "name": "python3"
  },
  "language_info": {
   "codemirror_mode": {
    "name": "ipython",
    "version": 3
   },
   "file_extension": ".py",
   "mimetype": "text/x-python",
   "name": "python",
   "nbconvert_exporter": "python",
   "pygments_lexer": "ipython3",
   "version": "3.10.12"
  }
 },
 "nbformat": 4,
 "nbformat_minor": 5
}
