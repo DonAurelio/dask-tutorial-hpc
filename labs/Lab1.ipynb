{
 "cells": [
  {
   "cell_type": "markdown",
   "id": "f1aace1b-44a0-4f40-acd1-9bf395bc4ce9",
   "metadata": {},
   "source": [
    "<img src=\"http://dask.readthedocs.io/en/latest/_images/dask_horizontal.svg\"\n",
    "     align=\"right\"\n",
    "     width=\"30%\"\n",
    "     alt=\"Dask logo\\\">\n",
    "\n",
    "# Lab 1: Parallel programming\n",
    "\n",
    "In this mini-lab, you will parallelize a basic sequential code using domain decompositon (`Dask Array`) and functional decomposition (`Dask Delayed`). Then you should answer the questions provided below."
   ]
  },
  {
   "cell_type": "markdown",
   "id": "8e9f30e6-f3b2-43a2-8317-9dbd1b41ae28",
   "metadata": {},
   "source": [
    "**Problem**. Consider the following equation for arrays of shape `(1000, 1000)`. Suppose $x$ and $y$ are both matrices of ones.\n",
    "\n",
    "$$\n",
    "  z = (x^2 + y^2) * (x^2 - y^2)\n",
    "$$\n",
    "\n",
    "**Activities**\n",
    "1. Sequential programming approach: Write a sequential program to find the value of $z$.\n",
    "2. Parallel programming approach: Write a parallel version of the sequential program using **automatic parallelization**.\n",
    "3. Parallel programming approach: Write a parallel version of the sequential program using the **domain decomposition** approach.\n",
    "4. Parallel programming approach: Write a parallel version of the sequential program using the **functional decomposition** approach.\n",
    "\n",
    "**Questions**\n",
    "\n",
    "1. Based on your experience, which decomposition strategy (domain or functional) proved to be the most natural for parallelizing the equation? Please explain your reasoning.\n",
    "2. Considering the implemented algorithms, which approach (automatic parallelization, domain decomposition, or functional decomposition) offers the most effective strategy for parallelizing this problem? Justify your answer.\n",
    "\n",
    "**Instructions for answers**\n",
    "\n",
    "1. Download the template [Dask Tutorial: Lab 1 - Parallel programming](../labs/Lab1.txt)\n",
    "2. Edit the template in Microsoft Word, place your answers. \n",
    "3. Create a PDF document.\n",
    "2. Share your PDF document in [Padlet](https://uniandes.padlet.org/aavivas/dask-tutorial-lab-1-parallel-programming-2025-wd5hms57yux5ith3)"
   ]
  },
  {
   "cell_type": "markdown",
   "id": "e3a88910-cd9e-46cb-962d-74ffcdfbd483",
   "metadata": {},
   "source": [
    "### Sequential programming approach\n",
    "\n",
    "Open the file [lab_matrix_sequential.py](../source/1/4.lab_matrix_sequential.py) and complete the missing lines of code `# ...`.\n",
    "\n",
    "_Hint: You can copy useful code snippets from the [notebook](../1.Parallel_programming.ipynb)._"
   ]
  },
  {
   "cell_type": "code",
   "execution_count": null,
   "id": "d1bf298a-fa8f-49c0-ba36-5f9b40adcb86",
   "metadata": {},
   "outputs": [],
   "source": [
    "!srun -N 1 -c 1 time -f 'Time: %e seconds \\nCPU usage: %P \\nMem usage: %M kbytes' \\\n",
    "python3.10 ../source/1/4.lab_matrix_sequential.py"
   ]
  },
  {
   "cell_type": "markdown",
   "id": "d13890e4-34f4-4f6c-be16-715a0b88fe5c",
   "metadata": {},
   "source": [
    "### Parallel programming approach: Automatic parallelization\n",
    "\n",
    "Open the file [lab_matrix_parallel_automatic.py](../source/1/5.lab_matrix_parallel_automatic.py) and complete the missing lines of code `# ...`.\n",
    "\n",
    "_Hint: You can copy useful code snippets from the [notebook](../1.Parallel_programming.ipynb)._"
   ]
  },
  {
   "cell_type": "code",
   "execution_count": null,
   "id": "4f509946-408d-4b9f-88ba-1dcffae945bc",
   "metadata": {},
   "outputs": [],
   "source": [
    "!srun -N 1 --exclusive time -f 'Time: %e seconds \\nCPU usage: %P \\nMem usage: %M kbytes' \\\n",
    "python3.10 ../source/1/5.lab_matrix_parallel_automatic.py"
   ]
  },
  {
   "cell_type": "markdown",
   "id": "4a2a82e5-3109-49ce-98e9-be79a371b182",
   "metadata": {},
   "source": [
    "### Parallel programming approach: Domain decomposition\n",
    "\n",
    "Open the file [lab_matrix_parallel_domain.py](../source/1/6.lab_matrix_parallel_domain.py) and complete the missing lines of code `# ...`.\n",
    "\n",
    "_Hint: You can copy useful code snippets from the [notebook](../1.Parallel_programming.ipynb)._"
   ]
  },
  {
   "cell_type": "code",
   "execution_count": null,
   "id": "4eb46aad-b6e9-4244-a745-83f4ce0c11f8",
   "metadata": {},
   "outputs": [],
   "source": [
    "!srun -N 1 --exclusive time -f 'Time: %e seconds \\nCPU usage: %P \\nMem usage: %M kbytes' \\\n",
    "python3.10 ../source/1/6.lab_matrix_parallel_domain.py"
   ]
  },
  {
   "cell_type": "markdown",
   "id": "95172cef-526f-4ebc-9ada-b0efd41aa9df",
   "metadata": {},
   "source": [
    "### Parallel programming approach: Functional decomposition\n",
    "\n",
    "Open the file [lab_matrix_parallel_functional.py](../source/1/7.lab_matrix_parallel_functional.py) and complete the missing lines of code `# ...`.\n",
    "\n",
    "_Hint: Remember, you will need to adjust the code to be able to apply functional decomposition. You can copy useful code snippets from the [notebook](../1.Parallel_programming.ipynb)._"
   ]
  },
  {
   "cell_type": "code",
   "execution_count": null,
   "id": "6ded9eb6-5500-4125-8702-e367c36f1645",
   "metadata": {},
   "outputs": [],
   "source": [
    "!srun -N 1 --exclusive time -f 'Time: %e seconds \\nCPU usage: %P \\nMem usage: %M kbytes' \\\n",
    "python3.10 ../source/1/7.lab_matrix_parallel_functional.py"
   ]
  },
  {
   "cell_type": "markdown",
   "id": "f4c39936-e990-4de8-b555-59ff96ac4b08",
   "metadata": {},
   "source": [
    "# [Index](../0.Introduction.ipynb)"
   ]
  }
 ],
 "metadata": {
  "kernelspec": {
   "display_name": "Python 3 (ipykernel)",
   "language": "python",
   "name": "python3"
  },
  "language_info": {
   "codemirror_mode": {
    "name": "ipython",
    "version": 3
   },
   "file_extension": ".py",
   "mimetype": "text/x-python",
   "name": "python",
   "nbconvert_exporter": "python",
   "pygments_lexer": "ipython3",
   "version": "3.10.12"
  }
 },
 "nbformat": 4,
 "nbformat_minor": 5
}
